{
 "cells": [
  {
   "cell_type": "markdown",
   "metadata": {},
   "source": [
    "# Assessment 2\n",
    "\n",
    "This assessment involves reproducing an experimental analysis using an openly available dataset.  The datasets and accompanying research paper can be found at: https://dl.acm.org/citation.cfm?id=3174220\n",
    "\n",
    "Please follow on below and complete all sections.\n"
   ]
  },
  {
   "cell_type": "code",
   "execution_count": 1,
   "metadata": {},
   "outputs": [],
   "source": [
    "# You should use pandas to work with the dataset as shown in this notebook.\n",
    "import pandas as pd\n",
    "from os import listdir\n",
    "import numpy as np\n",
    "\n",
    "\n",
    "# Generate visualisations ing matplotlib or seaborn\n",
    "import seaborn as sns\n",
    "import matplotlib\n",
    "import matplotlib.pyplot as plt\n",
    "%matplotlib inline\n",
    "\n",
    "# This asessment also depends on the pylev package.  Ensure you have installed this before beginning.\n",
    "\n",
    "# to install pylev, run the command below by uncommenting it and running the cell\n",
    "#!pip install --user git+https://github.com/toastdriven/pylev\n",
    "\n",
    "import pylev"
   ]
  },
  {
   "cell_type": "markdown",
   "metadata": {},
   "source": [
    "# Keystroke Dataset\n",
    "The dataset you will use for this assessment is a subset of the 136 million keystrokes analysed in the paper.  Each row in the dataset represents a keystroke, and information such as key press time, key release time (both in milliseconds), the sentence prompted, the actual input, and the key code is represented.  \n",
    "\n",
    "Each user's data is stored in a separate txt file. Load in the data into a single data frame and familiarise yourself with its structure."
   ]
  },
  {
   "cell_type": "code",
   "execution_count": 2,
   "metadata": {},
   "outputs": [
    {
     "ename": "FileNotFoundError",
     "evalue": "[WinError 3] The system cannot find the path specified: 'KeyStrokes-LabStudies/'",
     "output_type": "error",
     "traceback": [
      "\u001b[1;31m------------------------------------------------------------\u001b[0m",
      "\u001b[1;31mFileNotFoundError\u001b[0m          Traceback (most recent call last)",
      "\u001b[1;32m<ipython-input-2-002dd09044a8>\u001b[0m in \u001b[0;36m<module>\u001b[1;34m\u001b[0m\n\u001b[0;32m      3\u001b[0m \u001b[0muser_frame\u001b[0m \u001b[1;33m=\u001b[0m \u001b[1;33m[\u001b[0m\u001b[1;33m]\u001b[0m\u001b[1;33m\u001b[0m\u001b[1;33m\u001b[0m\u001b[0m\n\u001b[0;32m      4\u001b[0m \u001b[1;33m\u001b[0m\u001b[0m\n\u001b[1;32m----> 5\u001b[1;33m \u001b[1;32mfor\u001b[0m \u001b[0mfile\u001b[0m \u001b[1;32min\u001b[0m \u001b[0mlistdir\u001b[0m\u001b[1;33m(\u001b[0m\u001b[1;34m'KeyStrokes-LabStudies/'\u001b[0m\u001b[1;33m)\u001b[0m\u001b[1;33m:\u001b[0m\u001b[1;33m\u001b[0m\u001b[1;33m\u001b[0m\u001b[0m\n\u001b[0m\u001b[0;32m      6\u001b[0m \u001b[1;33m\u001b[0m\u001b[0m\n\u001b[0;32m      7\u001b[0m     \u001b[1;32mif\u001b[0m \u001b[1;33m(\u001b[0m\u001b[0mfile\u001b[0m\u001b[1;33m[\u001b[0m\u001b[1;33m-\u001b[0m\u001b[1;36m3\u001b[0m\u001b[1;33m:\u001b[0m\u001b[1;33m]\u001b[0m\u001b[1;33m)\u001b[0m \u001b[1;33m==\u001b[0m \u001b[1;34m'txt'\u001b[0m\u001b[1;33m:\u001b[0m\u001b[1;33m\u001b[0m\u001b[1;33m\u001b[0m\u001b[0m\n",
      "\u001b[1;31mFileNotFoundError\u001b[0m: [WinError 3] The system cannot find the path specified: 'KeyStrokes-LabStudies/'"
     ]
    }
   ],
   "source": [
    "# load in the dataset provided at https://dl.acm.org/citation.cfm?id=3174220 \n",
    "\n",
    "user_frame = []\n",
    "\n",
    "for file in listdir('KeyStrokes-LabStudies/'):\n",
    "    \n",
    "    if (file[-3:]) == 'txt':\n",
    "        user_frame.append(pd.read_csv('KeyStrokes-LabStudies/' + file, sep='\\t'))\n",
    "\n",
    "data_frame = pd.concat(user_frame, axis=0, ignore_index=True)\n",
    "    "
   ]
  },
  {
   "cell_type": "code",
   "execution_count": 3,
   "metadata": {},
   "outputs": [
    {
     "ename": "NameError",
     "evalue": "name 'data_frame' is not defined",
     "output_type": "error",
     "traceback": [
      "\u001b[1;31m------------------------------------------------------------\u001b[0m",
      "\u001b[1;31mNameError\u001b[0m                  Traceback (most recent call last)",
      "\u001b[1;32m<ipython-input-3-8bd0942272a0>\u001b[0m in \u001b[0;36m<module>\u001b[1;34m\u001b[0m\n\u001b[0;32m      1\u001b[0m \u001b[1;31m# if in doubt, always check that the data appears as you expect\u001b[0m\u001b[1;33m\u001b[0m\u001b[1;33m\u001b[0m\u001b[1;33m\u001b[0m\u001b[0m\n\u001b[0;32m      2\u001b[0m \u001b[1;33m\u001b[0m\u001b[0m\n\u001b[1;32m----> 3\u001b[1;33m \u001b[0mdata_frame\u001b[0m\u001b[1;33m.\u001b[0m\u001b[0mhead\u001b[0m\u001b[1;33m(\u001b[0m\u001b[1;33m)\u001b[0m\u001b[1;33m\u001b[0m\u001b[1;33m\u001b[0m\u001b[0m\n\u001b[0m",
      "\u001b[1;31mNameError\u001b[0m: name 'data_frame' is not defined"
     ]
    }
   ],
   "source": [
    "# if in doubt, always check that the data appears as you expect\n",
    "\n",
    "data_frame.head()"
   ]
  },
  {
   "cell_type": "code",
   "execution_count": 4,
   "metadata": {},
   "outputs": [
    {
     "ename": "NameError",
     "evalue": "name 'data_frame' is not defined",
     "output_type": "error",
     "traceback": [
      "\u001b[1;31m------------------------------------------------------------\u001b[0m",
      "\u001b[1;31mNameError\u001b[0m                  Traceback (most recent call last)",
      "\u001b[1;32m<ipython-input-4-f9845b5e8711>\u001b[0m in \u001b[0;36m<module>\u001b[1;34m\u001b[0m\n\u001b[0;32m      3\u001b[0m \u001b[1;31m# All metrics should be calculated on a per-sentence basis.  Use a data frame to store the metrics you calculate.\u001b[0m\u001b[1;33m\u001b[0m\u001b[1;33m\u001b[0m\u001b[1;33m\u001b[0m\u001b[0m\n\u001b[0;32m      4\u001b[0m \u001b[1;33m\u001b[0m\u001b[0m\n\u001b[1;32m----> 5\u001b[1;33m \u001b[0mmetric_frame\u001b[0m \u001b[1;33m=\u001b[0m \u001b[0mdata_frame\u001b[0m\u001b[1;33m[\u001b[0m\u001b[1;33m[\u001b[0m\u001b[1;34m'PARTICIPANT_ID'\u001b[0m\u001b[1;33m,\u001b[0m \u001b[1;34m'TEST_SECTION_ID'\u001b[0m\u001b[1;33m]\u001b[0m\u001b[1;33m]\u001b[0m\u001b[1;33m.\u001b[0m\u001b[0mdrop_duplicates\u001b[0m\u001b[1;33m(\u001b[0m\u001b[1;33m)\u001b[0m\u001b[1;33m.\u001b[0m\u001b[0mreset_index\u001b[0m\u001b[1;33m(\u001b[0m\u001b[0mdrop\u001b[0m\u001b[1;33m=\u001b[0m\u001b[1;32mTrue\u001b[0m\u001b[1;33m)\u001b[0m\u001b[1;33m\u001b[0m\u001b[1;33m\u001b[0m\u001b[0m\n\u001b[0m\u001b[0;32m      6\u001b[0m \u001b[1;33m\u001b[0m\u001b[0m\n\u001b[0;32m      7\u001b[0m \u001b[0mmetric_frame\u001b[0m\u001b[1;33m.\u001b[0m\u001b[0mhead\u001b[0m\u001b[1;33m(\u001b[0m\u001b[1;33m)\u001b[0m\u001b[1;33m\u001b[0m\u001b[1;33m\u001b[0m\u001b[0m\n",
      "\u001b[1;31mNameError\u001b[0m: name 'data_frame' is not defined"
     ]
    }
   ],
   "source": [
    "# setup a new data structure to hold each of the metrics you have calculated\n",
    "\n",
    "# All metrics should be calculated on a per-sentence basis.  Use a data frame to store the metrics you calculate.\n",
    "\n",
    "metric_frame = data_frame[['PARTICIPANT_ID', 'TEST_SECTION_ID']].drop_duplicates().reset_index(drop=True)\n",
    "\n",
    "metric_frame.head()\n"
   ]
  },
  {
   "cell_type": "markdown",
   "metadata": {},
   "source": [
    "# Performance Metrics\n",
    "\n",
    "Keystroke studies have a number of standard performance metrics. For this assessment, you must calculate each of the metrics below and generate an accompanying diagram/visualisation for each.  All metrics should be calculated for each test section (on a sentence by sentence basis) but visualisations can be produced using any grouping of the data.\n",
    "\n",
    "For each metric, use the following pattern to implement your solution:\n",
    "\n",
    "Define a function that takes in a data frame that holds a row for each keystroke for a given sentence and returns the metric for that sentence.  \n",
    "\n",
    "Use the add_column function below to add the metric to the metric_frame as a new column.  add_column takes in a data frame (to which you will add a column with a new metric), a function that calculates the metric, and a name for the new column.\n",
    "\n"
   ]
  },
  {
   "cell_type": "code",
   "execution_count": 5,
   "metadata": {},
   "outputs": [],
   "source": [
    "def add_column(frame, fn, name):\n",
    "    new_col = data_frame.groupby(['TEST_SECTION_ID', 'PARTICIPANT_ID']).apply(fn).reset_index(name=name)\n",
    "    return frame.merge(new_col)"
   ]
  },
  {
   "cell_type": "markdown",
   "metadata": {},
   "source": [
    "## Uncorrected Error Rate\n",
    "UER is the Levenshtein distance (use the pylev package to calculate this) from the correct string to the string entered by the user devided by the number of characters in the larger of the correct or the entered string.\n",
    "\n",
    "Calculate the Levenshtein distance for each test section, print the average value across all users, and produce a visualisation of this data.\n",
    "\n",
    "Use this sample solution to structure your solutions for the remaining metrics."
   ]
  },
  {
   "cell_type": "code",
   "execution_count": 6,
   "metadata": {},
   "outputs": [
    {
     "data": {
      "text/plain": [
       "[Text(0, 0.5, 'Probability Density'),\n",
       " (0, 26.894247672509824),\n",
       " Text(0.5, 0, 'Uncorrected Error Rate %')]"
      ]
     },
     "execution_count": 6,
     "metadata": {},
     "output_type": "execute_result"
    },
    {
     "data": {
      "image/png": "[encoded data removed]",
      "text/plain": [
       "<Figure size 432x288 with 1 Axes>"
      ]
     },
     "metadata": {
      "needs_background": "light"
     },
     "output_type": "display_data"
    }
   ],
   "source": [
    "def uer(sentence):\n",
    "    distance = float(pylev.levenshtein(sentence['USER_INPUT'].iloc[0], sentence['SENTENCE'].iloc[0]))\n",
    "    score = float(max(len(sentence['USER_INPUT'].iloc[0]), len(sentence['SENTENCE'].iloc[0])))\n",
    "    return (float(distance/score)*100.0)\n",
    "\n",
    "metric_frame = add_column(metric_frame, uer, 'UER')\n",
    "\n",
    "# plt.hist(metric_frame['UER'])\n",
    "# plt.xlabel(\"Uncorrected Error Rate %\")\n",
    "# plt.ylabel(\"Test Section (N)\")\n",
    "\n",
    "ax = sns.distplot(metric_frame['UER'])\n",
    "ax.set(xlabel=\"Uncorrected Error Rate %\", ylabel=\"Probability Density\", xlim=(0,None))"
   ]
  },
  {
   "cell_type": "markdown",
   "metadata": {},
   "source": [
    "## Words Per Minute\n",
    "WPM is calculated by taking the word length of the string transcribed (where length is the number of characters in the string divided by five) divided by the time (in minutes) from the first key press to the last key press. \n",
    "\n",
    "Calculate the WPM for each test section, print the average value across all users, and produce a visualisation of this data."
   ]
  },
  {
   "cell_type": "code",
   "execution_count": 7,
   "metadata": {},
   "outputs": [
    {
     "name": "stdout",
     "output_type": "stream",
     "text": [
      "Average WPM of all Participants: 54.3075056271782\n"
     ]
    },
    {
     "data": {
      "text/plain": [
       "[Text(0, 0.5, 'Probability Density'),\n",
       " (0, 159.5516629962213),\n",
       " Text(0.5, 0, 'Words Per Minute %')]"
      ]
     },
     "execution_count": 7,
     "metadata": {},
     "output_type": "execute_result"
    },
    {
     "data": {
      "image/png": "[encoded data removed]",
      "text/plain": [
       "<Figure size 432x288 with 1 Axes>"
      ]
     },
     "metadata": {
      "needs_background": "light"
     },
     "output_type": "display_data"
    }
   ],
   "source": [
    "# Words Per Minute\n",
    "def WPM(sentence):\n",
    "    sLength = float(len(sentence['USER_INPUT'].iloc[0]) / 5)\n",
    "    timing = (sentence['RELEASE_TIME'].iloc[-1]) - (sentence['PRESS_TIME'].iloc[0])\n",
    "    \n",
    "    return(sLength/timing) *60000\n",
    "\n",
    "metric_frame = add_column(metric_frame, WPM, 'WPM')\n",
    "    \n",
    "print(\"Average WPM of all Participants: \" + str(metric_frame['WPM'].mean()))\n",
    "\n",
    "ax = sns.distplot(metric_frame['WPM'])\n",
    "ax.set(xlabel=\"Words Per Minute %\", ylabel=\"Probability Density\", xlim=(0,None))"
   ]
  },
  {
   "cell_type": "markdown",
   "metadata": {},
   "source": [
    "## Error Corrections\n",
    "EC is calculated as the percentage of keypresses that are the backspace or delete key.\n",
    "\n",
    "Calculate the EC for each test section, print the average across all users, and produce of visualisation of this data.\n"
   ]
  },
  {
   "cell_type": "code",
   "execution_count": 8,
   "metadata": {},
   "outputs": [
    {
     "name": "stdout",
     "output_type": "stream",
     "text": [
      "Average Error Corrections of all Participants: 3.874126643012982\n"
     ]
    },
    {
     "data": {
      "text/plain": [
       "[Text(0, 0.5, 'Probability Density'),\n",
       " (0, 31.451848165648883),\n",
       " Text(0.5, 0, 'Error Corrections %')]"
      ]
     },
     "execution_count": 8,
     "metadata": {},
     "output_type": "execute_result"
    },
    {
     "data": {
      "image/png": "[encoded data removed]",
      "text/plain": [
       "<Figure size 432x288 with 1 Axes>"
      ]
     },
     "metadata": {
      "needs_background": "light"
     },
     "output_type": "display_data"
    }
   ],
   "source": [
    "# Error Corrections\n",
    "def eCorrections(sentence):\n",
    "    tCorrections =0\n",
    "    tKeypress = len(sentence)\n",
    "    \n",
    "    for input in sentence['LETTER']:\n",
    "        \n",
    "        if (input == 'DELETE' or input == 'BKSP'):\n",
    "            tCorrections +=1\n",
    "    \n",
    "    return(tCorrections/tKeypress) *100\n",
    "\n",
    "metric_frame = add_column(metric_frame, eCorrections, 'Error Corrections')\n",
    "\n",
    "tUsers = 0\n",
    "tError = 0 \n",
    "\n",
    "for user in metric_frame['Error Corrections']:\n",
    "    tUsers +=1\n",
    "    tError +=user\n",
    "    \n",
    "print(\"Average Error Corrections of all Participants: \" + str(metric_frame['Error Corrections'].mean()))\n",
    "\n",
    "ax = sns.distplot(metric_frame['Error Corrections'])\n",
    "ax.set(xlabel=\"Error Corrections %\", ylabel=\"Probability Density\", xlim=(0,None))"
   ]
  },
  {
   "cell_type": "markdown",
   "metadata": {},
   "source": [
    "## Keystrokes Per Character\n",
    "KPC is the number of total keystrokes divided by the number of characters in the final sentence. \n",
    "\n",
    "Calculate the KPC for each test section, print the average across all users, and produce a visualisation of this data."
   ]
  },
  {
   "cell_type": "code",
   "execution_count": 9,
   "metadata": {},
   "outputs": [
    {
     "name": "stdout",
     "output_type": "stream",
     "text": [
      "Average Keystrokes Per Character of all Participants: 1.1542178248152415\n"
     ]
    },
    {
     "data": {
      "text/plain": [
       "[Text(0, 0.5, 'Probability Density'),\n",
       " (0, 2.2165886965657213),\n",
       " Text(0.5, 0, 'Keystrokes Per Character')]"
      ]
     },
     "execution_count": 9,
     "metadata": {},
     "output_type": "execute_result"
    },
    {
     "data": {
      "image/png": "[encoded data removed]",
      "text/plain": [
       "<Figure size 432x288 with 1 Axes>"
      ]
     },
     "metadata": {
      "needs_background": "light"
     },
     "output_type": "display_data"
    }
   ],
   "source": [
    "# Keystrokes per character \n",
    "def KpC(sentence):\n",
    "    tKeystrokes =0\n",
    "    tInput = len(sentence['USER_INPUT'].iloc[-1])\n",
    "    \n",
    "    for input in sentence['LETTER']:\n",
    "        tKeystrokes +=1\n",
    "    \n",
    "    return tKeystrokes / tInput\n",
    "\n",
    "metric_frame = add_column(metric_frame, KpC, 'KPC')\n",
    "    \n",
    "print(\"Average Keystrokes Per Character of all Participants: \" + str(metric_frame['KPC'].mean()))\n",
    "\n",
    "ax = sns.distplot(metric_frame['KPC'])\n",
    "ax.set(xlabel=\"Keystrokes Per Character\", ylabel=\"Probability Density\", xlim=(0,None))"
   ]
  },
  {
   "cell_type": "markdown",
   "metadata": {},
   "source": [
    "## Interkey Interval\n",
    "IKI is the time difference in milliseconds between two keypress events.  Remove IKI intervals of greater than 5000 milliseconds from your analysis.\n",
    "\n",
    "Calculate the average IKI for each test section, print the average across all users, and produce a visualisation of this data."
   ]
  },
  {
   "cell_type": "code",
   "execution_count": 10,
   "metadata": {},
   "outputs": [
    {
     "name": "stdout",
     "output_type": "stream",
     "text": [
      "Average Interkey Intervals of all Participants: 136.18346301110566\n"
     ]
    },
    {
     "data": {
      "text/plain": [
       "[Text(0, 0.5, 'Probability Density'),\n",
       " (0, 881.2925418098722),\n",
       " Text(0.5, 0, 'Interkey Interval')]"
      ]
     },
     "execution_count": 10,
     "metadata": {},
     "output_type": "execute_result"
    },
    {
     "data": {
      "image/png": "[encoded data removed]",
      "text/plain": [
       "<Figure size 432x288 with 1 Axes>"
      ]
     },
     "metadata": {
      "needs_background": "light"
     },
     "output_type": "display_data"
    }
   ],
   "source": [
    "# Interkey Interval\n",
    "#taken to be the time when no key is pressed down\n",
    "def IkI(sentence):\n",
    "    iki =0\n",
    "    tTests = 0\n",
    "    for i in range(len(sentence['PRESS_TIME'])-1):\n",
    "        difference = sentence['PRESS_TIME'].iloc[i+1] - sentence['RELEASE_TIME'].iloc[i]\n",
    "        \n",
    "        #if there is rollover take interval to be 0\n",
    "        if difference < 0:\n",
    "            difference = 0\n",
    "        #exclude long skewing data\n",
    "        if difference <= 5000:\n",
    "            iki +=difference\n",
    "            tTests +=1\n",
    "            \n",
    "    return iki/tTests\n",
    "\n",
    "metric_frame = add_column(metric_frame, IkI, 'IKI')\n",
    "    \n",
    "print(\"Average Interkey Intervals of all Participants: \" + str(metric_frame['IKI'].mean()))\n",
    "\n",
    "ax = sns.distplot(metric_frame['IKI'])\n",
    "ax.set(xlabel=\"Interkey Interval\", ylabel=\"Probability Density\", xlim=(0,None))"
   ]
  },
  {
   "cell_type": "markdown",
   "metadata": {},
   "source": [
    "## Keypress Duration\n",
    "KPD is the duration in milliseconds between a keypress down and keypress up event.\n",
    "\n",
    "Calculate the average KPD for each test section, print the average across all users, and produce a visualisation of this data."
   ]
  },
  {
   "cell_type": "code",
   "execution_count": 11,
   "metadata": {},
   "outputs": [
    {
     "name": "stdout",
     "output_type": "stream",
     "text": [
      "Average Keypress Duration of all Participants: 127.67547747179412\n"
     ]
    },
    {
     "data": {
      "text/plain": [
       "[Text(0, 0.5, 'Probability Density'),\n",
       " (0, 2.2165886965657213),\n",
       " Text(0.5, 0, 'Keypress Duration')]"
      ]
     },
     "execution_count": 11,
     "metadata": {},
     "output_type": "execute_result"
    },
    {
     "data": {
      "image/png": "[encoded data removed]",
      "text/plain": [
       "<Figure size 432x288 with 1 Axes>"
      ]
     },
     "metadata": {
      "needs_background": "light"
     },
     "output_type": "display_data"
    }
   ],
   "source": [
    "# Keypress Duration\n",
    "def KpD(sentence):\n",
    "    dur =0\n",
    "    tTests = 0\n",
    "    \n",
    "    for i in range(len(sentence['PRESS_TIME'])):\n",
    "        dur += sentence['RELEASE_TIME'].iloc[i] - sentence['PRESS_TIME'].iloc[i]\n",
    "        tTests +=1\n",
    "    \n",
    "    return dur / tTests\n",
    "\n",
    "metric_frame = add_column(metric_frame, KpD, 'KPD')\n",
    "\n",
    "tUsers = 0\n",
    "tKpD = 0 \n",
    "\n",
    "for user in metric_frame['KPD']:\n",
    "    tUsers +=1\n",
    "    tKpD +=user\n",
    "    \n",
    "print(\"Average Keypress Duration of all Participants: \" + str(tKpD/tUsers))\n",
    "\n",
    "ax = sns.distplot(metric_frame['KPC'])\n",
    "ax.set(xlabel=\"Keypress Duration\", ylabel=\"Probability Density\", xlim=(0,None))"
   ]
  },
  {
   "cell_type": "markdown",
   "metadata": {},
   "source": [
    "# Key Grouping Analysis\n",
    "\n",
    "There are certain key combinations and orderings in typing behaviour that can be seen in a dataset like this.  In the paper, the authors describe some of these results such as lettering pairings \"as\" \"an\" and \"ll\" which require typing across different areas of a QWERTY keyboard.\n",
    "\n",
    "Using your knowledge of keyboard layouts and typing behaviour, complete a novel analysis of a key grouping of your choice.  You may need to be creative in exploring the data to find and analyse a typing behaviour.  \n",
    "\n",
    "Use the space below to describe what key grouping you are analysing a why (up to 150 words).  Generate suitable visualisations to illustrate your point and give a summary of your results (up to 150 words).\n"
   ]
  },
  {
   "cell_type": "markdown",
   "metadata": {},
   "source": [
    "# Analysis\n",
    "\n",
    "The lettering pairings for the analysis of key grouping have been selected as, \"oo\" , “op” and \"qu\". Code \"oo\" was been selected as it is a duplicate letter (therefore on one side of the keyboard), it will generally be conducted by a single finger. Code “op” was picked as it is close together on the keyboard but not a duplicate letter, generally conducted with one hand but with different fingers. Code \"qu\" was chosen as the letters are distributed physically far apart on the keyboard and will generally be typed using both hands. Codes selected to be used by one hand were chosen at the same end of the keyboard to ensure the same hand would be used. It was found that these codes are used a similar number of times in the dataset which gives a further reason they should be chosen; \"oo\"20- occurrences, \"op\"-11 occurrences, \"oo\"-8 occurrences.\n",
    "\n",
    "The analysis that was carried out was the \"Code Press Duration\", given as the time from the first letter of code being pressed to the time the second letter of the code being released. The times accountable were limited to 600 milliseconds as skewed results were present otherwise. The average of these results was then taken, and a histogram was plotted. Average \"Code Press Durations\" in milliseconds as follows; \"oo\" = 269.45, \"op\" =305.0, “qu” = 233.625. These results show that two keys were pressed one after the other the fastest when the participants would use both of theirs hand, the letters being physically far apart on the keyboard. The results also indicate that when the participants types two consecutive letters with the same hand, the two letters are typed faster if the are the same letter. This is because the same finger would be used in the same location. \n",
    "\n",
    "\n"
   ]
  },
  {
   "cell_type": "code",
   "execution_count": 12,
   "metadata": {},
   "outputs": [
    {
     "name": "stdout",
     "output_type": "stream",
     "text": [
      "Average 'oo' Code Press Duration of all Participants: 269.45\n",
      "Average 'op' Code Press Duration of all Participants: 305.0\n",
      "Average 'qu' Code Press Duration of all Participants: 233.625\n"
     ]
    },
    {
     "data": {
      "text/plain": [
       "Text(0, 0.5, 'Test Section (N)')"
      ]
     },
     "execution_count": 12,
     "metadata": {},
     "output_type": "execute_result"
    },
    {
     "data": {
      "image/png": "[encoded data removed]",
      "text/plain": [
       "<Figure size 432x288 with 1 Axes>"
      ]
     },
     "metadata": {
      "needs_background": "light"
     },
     "output_type": "display_data"
    },
    {
     "data": {
      "image/png": "[encoded data removed]",
      "text/plain": [
       "<Figure size 432x288 with 1 Axes>"
      ]
     },
     "metadata": {
      "needs_background": "light"
     },
     "output_type": "display_data"
    },
    {
     "data": {
      "image/png": "[encoded data removed]",
      "text/plain": [
       "<Figure size 432x288 with 1 Axes>"
      ]
     },
     "metadata": {
      "needs_background": "light"
     },
     "output_type": "display_data"
    }
   ],
   "source": [
    "# Code press duration of oo\n",
    "def oo(sentence):\n",
    "    code_dur =0\n",
    "    tTests = 0\n",
    "    difference = 0\n",
    "    for i in range(len(sentence['PRESS_TIME'])-1):\n",
    "        if(sentence['LETTER'].iloc[i]+sentence['LETTER'].iloc[i+1]  == \"oo\"):\n",
    "            difference = sentence['RELEASE_TIME'].iloc[i+1] - sentence['PRESS_TIME'].iloc[i]\n",
    "            \n",
    "            if difference < 0:\n",
    "                difference = 0\n",
    "            if difference <= 600:\n",
    "                code_dur +=difference\n",
    "                tTests +=1\n",
    "    try:\n",
    "        #print(code_dur/tTests)\n",
    "        return code_dur/tTests\n",
    "    except:\n",
    "        return None \n",
    "\n",
    "#create frame frame\n",
    "metric_frame = add_column(metric_frame, oo, 'oo')\n",
    "#find average\n",
    "print(\"Average 'oo' Code Press Duration of all Participants: \" + str(metric_frame['oo'].mean()))\n",
    "#plot on histogram\n",
    "plt.figure()\n",
    "plt.hist(metric_frame['oo'].dropna())\n",
    "#label axis\n",
    "plt.xlabel(\"Code duration, 'oo'\")\n",
    "plt.ylabel(\"Test Section (N)\")\n",
    "\n",
    "\n",
    "# Code press duration of op\n",
    "def op(sentence):\n",
    "    code_dur =0\n",
    "    tTests = 0\n",
    "    difference = 0\n",
    "    for i in range(len(sentence['PRESS_TIME'])-1):\n",
    "        if(sentence['LETTER'].iloc[i]+sentence['LETTER'].iloc[i+1]  == \"op\"):\n",
    "            difference = sentence['RELEASE_TIME'].iloc[i+1] - sentence['PRESS_TIME'].iloc[i]\n",
    "            \n",
    "            if difference < 0:\n",
    "                difference = 0\n",
    "            if difference <= 600:\n",
    "                code_dur +=difference\n",
    "                tTests +=1\n",
    "    try:\n",
    "        #print(code_dur/tTests)\n",
    "        return code_dur/tTests\n",
    "    except:\n",
    "        return None \n",
    "\n",
    "#create frame frame\n",
    "metric_frame = add_column(metric_frame, op, 'op')\n",
    "#find average\n",
    "print(\"Average 'op' Code Press Duration of all Participants: \" + str(metric_frame['op'].mean()))\n",
    "#plot on histogram\n",
    "plt.figure()\n",
    "plt.hist(metric_frame['op'].dropna())\n",
    "#label axis\n",
    "plt.xlabel(\"Code duration, 'op'\")\n",
    "plt.ylabel(\"Test Section (N)\")\n",
    "\n",
    "# Code press duration of qu\n",
    "def qu(sentence):\n",
    "    code_dur =0\n",
    "    tTests = 0\n",
    "    difference = 0\n",
    "    for i in range(len(sentence['PRESS_TIME'])-1):\n",
    "        if(sentence['LETTER'].iloc[i]+sentence['LETTER'].iloc[i+1]  == \"qu\"):\n",
    "            difference = sentence['RELEASE_TIME'].iloc[i+1] - sentence['PRESS_TIME'].iloc[i]\n",
    "            \n",
    "            if difference < 0:\n",
    "                difference = 0\n",
    "            if difference <= 600:\n",
    "                code_dur +=difference\n",
    "                tTests +=1\n",
    "    try:\n",
    "        #print(code_dur/tTests)\n",
    "        return code_dur/tTests\n",
    "    except:\n",
    "        return None\n",
    "\n",
    "#create frame\n",
    "metric_frame = add_column(metric_frame, qu, 'qu')\n",
    "#find average\n",
    "print(\"Average 'qu' Code Press Duration of all Participants: \" + str(metric_frame['qu'].mean()))\n",
    "#plot on histogram\n",
    "plt.figure()\n",
    "plt.hist(metric_frame['qu'].dropna())\n",
    "#label axis\n",
    "plt.xlabel(\"Code duration, 'qu'\")\n",
    "plt.ylabel(\"Test Section (N)\")"
   ]
  },
  {
   "cell_type": "markdown",
   "metadata": {},
   "source": [
    "# Big Data?\n",
    "If you are interested to see how you analysis stacks up to the full dataset (16 GB uncompressed) than rerun your analysis with the full dataset available here: https://userinterfaces.aalto.fi/136Mkeystrokes/"
   ]
  }
 ],
 "metadata": {
  "kernelspec": {
   "display_name": "Python 3",
   "language": "python",
   "name": "python3"
  },
  "language_info": {
   "codemirror_mode": {
    "name": "ipython",
    "version": 3
   },
   "file_extension": ".py",
   "mimetype": "text/x-python",
   "name": "python",
   "nbconvert_exporter": "python",
   "pygments_lexer": "ipython3",
   "version": "3.7.6"
  }
 },
 "nbformat": 4,
 "nbformat_minor": 2
}
